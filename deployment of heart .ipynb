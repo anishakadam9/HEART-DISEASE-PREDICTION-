{
 "cells": [
  {
   "cell_type": "code",
   "execution_count": 1,
   "id": "9dc988f1-8285-4882-ac10-79a7f4b6ffc4",
   "metadata": {},
   "outputs": [],
   "source": [
    "import pickle"
   ]
  },
  {
   "cell_type": "code",
   "execution_count": 2,
   "id": "94ecb9be-d770-47d0-9a2f-48ec61cc9614",
   "metadata": {},
   "outputs": [],
   "source": [
    "# to read file in read binary mode\n",
    "# to open file in read mode\n",
    "file1=open(\"model.pkl\",\"rb\")"
   ]
  },
  {
   "cell_type": "code",
   "execution_count": 3,
   "id": "60885049-d908-4774-974c-3d2b49ba3a4e",
   "metadata": {},
   "outputs": [],
   "source": [
    "# to open file in read mode for sclae\n",
    "file2=open(\"scale.pkl\",\"rb\")"
   ]
  },
  {
   "cell_type": "code",
   "execution_count": 4,
   "id": "4b274e7c-29bb-4475-a952-9fa84845f423",
   "metadata": {},
   "outputs": [],
   "source": [
    "# to read data from file1 and hold in temp object\n",
    "model=pickle.load(file1)  #load():inbuild method pf pickle class"
   ]
  },
  {
   "cell_type": "code",
   "execution_count": 5,
   "id": "59e7724a-55f8-4f0f-b33d-84e19de089fc",
   "metadata": {},
   "outputs": [],
   "source": [
    "# to read data from file2 and hold in temp object\n",
    "scale=pickle.load(file2)  #load():inbuild method pf pickle class"
   ]
  },
  {
   "cell_type": "markdown",
   "id": "a8445ac5-0c91-439f-9d76-b33893f5b6cb",
   "metadata": {},
   "source": [
    "###### input\n",
    "age=int(input('enter age'))\n",
    "gender=int(input('enter gender'))\n",
    "chest_pain=int(input('enter chest_pain'))\n",
    "rest_bps=int(input('enter rest_bps'))\n",
    "cholestrol=int(input('enter cholestrol'))\n",
    "fasting_blood_sugar=int(input('enter fasting_blood_sugar'))\n",
    "rest_ecg=int(input('enter rest_ecg'))\n",
    "thalach=int(input('enter thalach'))\n",
    "exer_angina=int(input('enter exer_angina'))\n",
    "old_peak=float(input('enter old_peak'))\n",
    "slope=int(input('enter slope'))\n",
    "ca=int(input('enter ca'))\n",
    "thalassemia=int(input('enter thalassemia'))"
   ]
  },
  {
   "cell_type": "code",
   "execution_count": 7,
   "id": "5c0a4cad-d593-4f50-b183-fabaf79d12ee",
   "metadata": {},
   "outputs": [
    {
     "name": "stdout",
     "output_type": "stream",
     "text": [
      "<class 'numpy.ndarray'> 2\n"
     ]
    }
   ],
   "source": [
    "#create a numpy 2d array\n",
    "import numpy as np\n",
    "data=np.array([[age,gender,chest_pain,rest_bps,cholestrol,fasting_blood_sugar,rest_ecg,thalach,exer_angina,old_peak,slope,ca,thalassemia]])\n",
    "print(type(data),data.ndim)"
   ]
  },
  {
   "cell_type": "code",
   "execution_count": 8,
   "id": "bccded24-494c-4da6-a0c3-2e2087729239",
   "metadata": {},
   "outputs": [
    {
     "name": "stdout",
     "output_type": "stream",
     "text": [
      "[[ 0.32639744  0.64506386  1.02938967 -0.14568118 -0.2880287  -0.42281314\n",
      "  -1.06498237 -0.00993467 -0.69707639 -0.54230244 -0.69616283  0.27995117\n",
      "   1.12056846]]\n"
     ]
    },
    {
     "name": "stderr",
     "output_type": "stream",
     "text": [
      "C:\\Users\\Anisha Kadam\\anaconda3\\Lib\\site-packages\\sklearn\\base.py:439: UserWarning: X does not have valid feature names, but StandardScaler was fitted with feature names\n",
      "  warnings.warn(\n"
     ]
    }
   ],
   "source": [
    "#apply scaling on data\n",
    "data=scale.transform(data)\n",
    "print(data)"
   ]
  },
  {
   "cell_type": "code",
   "execution_count": 9,
   "id": "1844e97e-af35-4e2e-8145-6c62f37df9dd",
   "metadata": {},
   "outputs": [
    {
     "name": "stdout",
     "output_type": "stream",
     "text": [
      "[0]\n"
     ]
    }
   ],
   "source": [
    "Y_pred=model.predict(data)\n",
    "print(Y_pred)"
   ]
  },
  {
   "cell_type": "code",
   "execution_count": 10,
   "id": "8d289ca5-44a7-426c-b687-689b9d090016",
   "metadata": {},
   "outputs": [
    {
     "ename": "SyntaxError",
     "evalue": "invalid syntax (2374588930.py, line 1)",
     "output_type": "error",
     "traceback": [
      "\u001b[1;36m  Cell \u001b[1;32mIn[10], line 1\u001b[1;36m\u001b[0m\n\u001b[1;33m    57\t1\t2\t128\t229\t0\t0\t150\t0\t0.4\t1\t1\t3\u001b[0m\n\u001b[1;37m      \t^\u001b[0m\n\u001b[1;31mSyntaxError\u001b[0m\u001b[1;31m:\u001b[0m invalid syntax\n"
     ]
    }
   ],
   "source": [
    "57\t1\t2\t128\t229\t0\t0\t150\t0\t0.4\t1\t1\t3\n",
    "\t\n"
   ]
  }
 ],
 "metadata": {
  "kernelspec": {
   "display_name": "Python 3 (ipykernel)",
   "language": "python",
   "name": "python3"
  },
  "language_info": {
   "codemirror_mode": {
    "name": "ipython",
    "version": 3
   },
   "file_extension": ".py",
   "mimetype": "text/x-python",
   "name": "python",
   "nbconvert_exporter": "python",
   "pygments_lexer": "ipython3",
   "version": "3.11.7"
  }
 },
 "nbformat": 4,
 "nbformat_minor": 5
}
