{
 "cells": [
  {
   "cell_type": "markdown",
   "id": "1175fe19-29f7-43ef-8c75-9138f209629b",
   "metadata": {},
   "source": [
    "**Predicting Heart Disease Using Machine Learning Algorithms**"
   ]
  },
  {
   "cell_type": "markdown",
   "id": "8e01bcb3-ccc8-48d0-9674-de0b5c8c16f4",
   "metadata": {},
   "source": [
    "**Analyse the heartDisease.csv dataset to explore the machine learning algorithms and build decision tree models to predict the disease.**"
   ]
  },
  {
   "cell_type": "markdown",
   "id": "f3407b27-e88e-4b91-8761-dfbd11ca8ad6",
   "metadata": {},
   "source": [
    "**Import Libraries**"
   ]
  },
  {
   "cell_type": "code",
   "execution_count": 1,
   "id": "8f758187-b25f-41fa-9a1c-424bdd2be475",
   "metadata": {},
   "outputs": [],
   "source": [
    "import numpy as np\n",
    "import pandas as pd\n",
    "import matplotlib.pyplot as plt\n",
    "import seaborn as sb\n",
    "import warnings\n",
    "warnings.filterwarnings('ignore')"
   ]
  },
  {
   "cell_type": "markdown",
   "id": "b74dddba-c510-41a0-9f2b-b79c5866b73a",
   "metadata": {},
   "source": [
    "**Load the Dataset**"
   ]
  },
  {
   "cell_type": "code",
   "execution_count": 2,
   "id": "53832eae",
   "metadata": {},
   "outputs": [],
   "source": [
    "df=pd.read_csv(\"HeartDisease (1).csv\")"
   ]
  },
  {
   "cell_type": "code",
   "execution_count": 3,
   "id": "15c3c52a",
   "metadata": {},
   "outputs": [
    {
     "data": {
      "text/html": [
       "<div>\n",
       "<style scoped>\n",
       "    .dataframe tbody tr th:only-of-type {\n",
       "        vertical-align: middle;\n",
       "    }\n",
       "\n",
       "    .dataframe tbody tr th {\n",
       "        vertical-align: top;\n",
       "    }\n",
       "\n",
       "    .dataframe thead th {\n",
       "        text-align: right;\n",
       "    }\n",
       "</style>\n",
       "<table border=\"1\" class=\"dataframe\">\n",
       "  <thead>\n",
       "    <tr style=\"text-align: right;\">\n",
       "      <th></th>\n",
       "      <th>age</th>\n",
       "      <th>gender</th>\n",
       "      <th>chest_pain</th>\n",
       "      <th>rest_bps</th>\n",
       "      <th>cholestrol</th>\n",
       "      <th>fasting_blood_sugar</th>\n",
       "      <th>rest_ecg</th>\n",
       "      <th>thalach</th>\n",
       "      <th>exer_angina</th>\n",
       "      <th>old_peak</th>\n",
       "      <th>slope</th>\n",
       "      <th>ca</th>\n",
       "      <th>thalassemia</th>\n",
       "      <th>target</th>\n",
       "    </tr>\n",
       "  </thead>\n",
       "  <tbody>\n",
       "    <tr>\n",
       "      <th>0</th>\n",
       "      <td>63</td>\n",
       "      <td>1</td>\n",
       "      <td>3</td>\n",
       "      <td>145</td>\n",
       "      <td>233</td>\n",
       "      <td>1</td>\n",
       "      <td>0</td>\n",
       "      <td>150</td>\n",
       "      <td>0</td>\n",
       "      <td>2.3</td>\n",
       "      <td>0</td>\n",
       "      <td>0</td>\n",
       "      <td>1</td>\n",
       "      <td>1</td>\n",
       "    </tr>\n",
       "    <tr>\n",
       "      <th>1</th>\n",
       "      <td>37</td>\n",
       "      <td>1</td>\n",
       "      <td>2</td>\n",
       "      <td>130</td>\n",
       "      <td>250</td>\n",
       "      <td>0</td>\n",
       "      <td>1</td>\n",
       "      <td>187</td>\n",
       "      <td>0</td>\n",
       "      <td>3.5</td>\n",
       "      <td>0</td>\n",
       "      <td>0</td>\n",
       "      <td>2</td>\n",
       "      <td>1</td>\n",
       "    </tr>\n",
       "    <tr>\n",
       "      <th>2</th>\n",
       "      <td>41</td>\n",
       "      <td>0</td>\n",
       "      <td>1</td>\n",
       "      <td>130</td>\n",
       "      <td>204</td>\n",
       "      <td>0</td>\n",
       "      <td>0</td>\n",
       "      <td>172</td>\n",
       "      <td>0</td>\n",
       "      <td>1.4</td>\n",
       "      <td>2</td>\n",
       "      <td>0</td>\n",
       "      <td>2</td>\n",
       "      <td>1</td>\n",
       "    </tr>\n",
       "    <tr>\n",
       "      <th>3</th>\n",
       "      <td>56</td>\n",
       "      <td>1</td>\n",
       "      <td>1</td>\n",
       "      <td>120</td>\n",
       "      <td>236</td>\n",
       "      <td>0</td>\n",
       "      <td>1</td>\n",
       "      <td>178</td>\n",
       "      <td>0</td>\n",
       "      <td>0.8</td>\n",
       "      <td>2</td>\n",
       "      <td>0</td>\n",
       "      <td>2</td>\n",
       "      <td>1</td>\n",
       "    </tr>\n",
       "    <tr>\n",
       "      <th>4</th>\n",
       "      <td>57</td>\n",
       "      <td>0</td>\n",
       "      <td>0</td>\n",
       "      <td>120</td>\n",
       "      <td>354</td>\n",
       "      <td>0</td>\n",
       "      <td>1</td>\n",
       "      <td>163</td>\n",
       "      <td>1</td>\n",
       "      <td>0.6</td>\n",
       "      <td>2</td>\n",
       "      <td>0</td>\n",
       "      <td>2</td>\n",
       "      <td>1</td>\n",
       "    </tr>\n",
       "  </tbody>\n",
       "</table>\n",
       "</div>"
      ],
      "text/plain": [
       "   age  gender  chest_pain  rest_bps  cholestrol  fasting_blood_sugar  \\\n",
       "0   63       1           3       145         233                    1   \n",
       "1   37       1           2       130         250                    0   \n",
       "2   41       0           1       130         204                    0   \n",
       "3   56       1           1       120         236                    0   \n",
       "4   57       0           0       120         354                    0   \n",
       "\n",
       "   rest_ecg  thalach  exer_angina  old_peak  slope  ca  thalassemia  target  \n",
       "0         0      150            0       2.3      0   0            1       1  \n",
       "1         1      187            0       3.5      0   0            2       1  \n",
       "2         0      172            0       1.4      2   0            2       1  \n",
       "3         1      178            0       0.8      2   0            2       1  \n",
       "4         1      163            1       0.6      2   0            2       1  "
      ]
     },
     "execution_count": 3,
     "metadata": {},
     "output_type": "execute_result"
    }
   ],
   "source": [
    "df.head()"
   ]
  },
  {
   "cell_type": "markdown",
   "id": "b6f8fcfe-03fe-4d31-96f3-d14d6e628a84",
   "metadata": {},
   "source": [
    "**EDA(Exploratory Data Analysis)**"
   ]
  },
  {
   "cell_type": "code",
   "execution_count": 4,
   "id": "b8b1fa37",
   "metadata": {},
   "outputs": [
    {
     "data": {
      "text/plain": [
       "age                      int64\n",
       "gender                   int64\n",
       "chest_pain               int64\n",
       "rest_bps                 int64\n",
       "cholestrol               int64\n",
       "fasting_blood_sugar      int64\n",
       "rest_ecg                 int64\n",
       "thalach                  int64\n",
       "exer_angina              int64\n",
       "old_peak               float64\n",
       "slope                    int64\n",
       "ca                       int64\n",
       "thalassemia              int64\n",
       "target                   int64\n",
       "dtype: object"
      ]
     },
     "execution_count": 4,
     "metadata": {},
     "output_type": "execute_result"
    }
   ],
   "source": [
    "df.dtypes"
   ]
  },
  {
   "cell_type": "markdown",
   "id": "266c9cfb-3c70-4496-9972-735b1f667f34",
   "metadata": {},
   "source": [
    "**Checking for Null values**"
   ]
  },
  {
   "cell_type": "code",
   "execution_count": 5,
   "id": "3e2c9f8d",
   "metadata": {},
   "outputs": [
    {
     "data": {
      "text/plain": [
       "age                    0\n",
       "gender                 0\n",
       "chest_pain             0\n",
       "rest_bps               0\n",
       "cholestrol             0\n",
       "fasting_blood_sugar    0\n",
       "rest_ecg               0\n",
       "thalach                0\n",
       "exer_angina            0\n",
       "old_peak               0\n",
       "slope                  0\n",
       "ca                     0\n",
       "thalassemia            0\n",
       "target                 0\n",
       "dtype: int64"
      ]
     },
     "execution_count": 5,
     "metadata": {},
     "output_type": "execute_result"
    }
   ],
   "source": [
    "df.isnull().sum()"
   ]
  },
  {
   "cell_type": "markdown",
   "id": "227265ba-0edd-474d-b2a1-d0a6882bdcb1",
   "metadata": {},
   "source": [
    "**Checking duplicates values**"
   ]
  },
  {
   "cell_type": "code",
   "execution_count": 6,
   "id": "8cb121e1",
   "metadata": {},
   "outputs": [
    {
     "data": {
      "text/plain": [
       "1"
      ]
     },
     "execution_count": 6,
     "metadata": {},
     "output_type": "execute_result"
    }
   ],
   "source": [
    "df.duplicated().sum()"
   ]
  },
  {
   "cell_type": "code",
   "execution_count": 7,
   "id": "eb3ada2c",
   "metadata": {},
   "outputs": [],
   "source": [
    "#remove duplicates records\n",
    "df.drop_duplicates(inplace=True)"
   ]
  },
  {
   "cell_type": "markdown",
   "id": "b114c81d-b2f7-47bf-add1-509a16a8e6d0",
   "metadata": {},
   "source": [
    "**Checking the distribution of Target Variables**\n",
    "  "
   ]
  },
  {
   "cell_type": "code",
   "execution_count": 8,
   "id": "8df3dfaa",
   "metadata": {},
   "outputs": [
    {
     "data": {
      "text/plain": [
       "target\n",
       "1    164\n",
       "0    138\n",
       "Name: count, dtype: int64"
      ]
     },
     "execution_count": 8,
     "metadata": {},
     "output_type": "execute_result"
    }
   ],
   "source": [
    "#output:target : predict whether patient have heart related problem or not\n",
    "#1.yes and 0:no\n",
    "df['target'].value_counts()"
   ]
  },
  {
   "cell_type": "markdown",
   "id": "53f44bd2-66c9-4729-9b7f-95a7f5f45db7",
   "metadata": {},
   "source": [
    "  1----->Heart Disease\n",
    "  \n",
    "  0----->Normal Heart"
   ]
  },
  {
   "cell_type": "markdown",
   "id": "25e2ad37-6e16-4e79-a90e-c3c3dc3007f2",
   "metadata": {},
   "source": [
    "**Visualize using countplot**"
   ]
  },
  {
   "cell_type": "code",
   "execution_count": 9,
   "id": "43ea9e1c-5bc2-4779-b9db-3bdf7a49bad4",
   "metadata": {},
   "outputs": [
    {
     "data": {
      "image/png": "[encoded data removed]",
      "text/plain": [
       "<Figure size 640x480 with 1 Axes>"
      ]
     },
     "metadata": {},
     "output_type": "display_data"
    },
    {
     "name": "stdout",
     "output_type": "stream",
     "text": [
      "target\n",
      "1    164\n",
      "0    138\n",
      "Name: count, dtype: int64\n"
     ]
    }
   ],
   "source": [
    "f=df['target'].value_counts()\n",
    "sb.countplot(data=df,x='target')\n",
    "plt.yticks(f)\n",
    "plt.show()\n",
    "print(f)"
   ]
  },
  {
   "cell_type": "markdown",
   "id": "2dece458-23ec-4d8c-b2a9-6761cdc8c860",
   "metadata": {},
   "source": [
    "**Separating features and Target**"
   ]
  },
  {
   "cell_type": "code",
   "execution_count": 10,
   "id": "85b04ff6",
   "metadata": {},
   "outputs": [],
   "source": [
    "#separate input and output\n",
    "x=df.drop('target',axis=1)\n",
    "y=df['target']"
   ]
  },
  {
   "cell_type": "code",
   "execution_count": 11,
   "id": "0f38c188-ffda-46f2-9d08-91abb76bf510",
   "metadata": {},
   "outputs": [
    {
     "data": {
      "text/html": [
       "<div>\n",
       "<style scoped>\n",
       "    .dataframe tbody tr th:only-of-type {\n",
       "        vertical-align: middle;\n",
       "    }\n",
       "\n",
       "    .dataframe tbody tr th {\n",
       "        vertical-align: top;\n",
       "    }\n",
       "\n",
       "    .dataframe thead th {\n",
       "        text-align: right;\n",
       "    }\n",
       "</style>\n",
       "<table border=\"1\" class=\"dataframe\">\n",
       "  <thead>\n",
       "    <tr style=\"text-align: right;\">\n",
       "      <th></th>\n",
       "      <th>age</th>\n",
       "      <th>gender</th>\n",
       "      <th>chest_pain</th>\n",
       "      <th>rest_bps</th>\n",
       "      <th>cholestrol</th>\n",
       "      <th>fasting_blood_sugar</th>\n",
       "      <th>rest_ecg</th>\n",
       "      <th>thalach</th>\n",
       "      <th>exer_angina</th>\n",
       "      <th>old_peak</th>\n",
       "      <th>slope</th>\n",
       "      <th>ca</th>\n",
       "      <th>thalassemia</th>\n",
       "    </tr>\n",
       "  </thead>\n",
       "  <tbody>\n",
       "    <tr>\n",
       "      <th>0</th>\n",
       "      <td>63</td>\n",
       "      <td>1</td>\n",
       "      <td>3</td>\n",
       "      <td>145</td>\n",
       "      <td>233</td>\n",
       "      <td>1</td>\n",
       "      <td>0</td>\n",
       "      <td>150</td>\n",
       "      <td>0</td>\n",
       "      <td>2.3</td>\n",
       "      <td>0</td>\n",
       "      <td>0</td>\n",
       "      <td>1</td>\n",
       "    </tr>\n",
       "    <tr>\n",
       "      <th>1</th>\n",
       "      <td>37</td>\n",
       "      <td>1</td>\n",
       "      <td>2</td>\n",
       "      <td>130</td>\n",
       "      <td>250</td>\n",
       "      <td>0</td>\n",
       "      <td>1</td>\n",
       "      <td>187</td>\n",
       "      <td>0</td>\n",
       "      <td>3.5</td>\n",
       "      <td>0</td>\n",
       "      <td>0</td>\n",
       "      <td>2</td>\n",
       "    </tr>\n",
       "    <tr>\n",
       "      <th>2</th>\n",
       "      <td>41</td>\n",
       "      <td>0</td>\n",
       "      <td>1</td>\n",
       "      <td>130</td>\n",
       "      <td>204</td>\n",
       "      <td>0</td>\n",
       "      <td>0</td>\n",
       "      <td>172</td>\n",
       "      <td>0</td>\n",
       "      <td>1.4</td>\n",
       "      <td>2</td>\n",
       "      <td>0</td>\n",
       "      <td>2</td>\n",
       "    </tr>\n",
       "    <tr>\n",
       "      <th>3</th>\n",
       "      <td>56</td>\n",
       "      <td>1</td>\n",
       "      <td>1</td>\n",
       "      <td>120</td>\n",
       "      <td>236</td>\n",
       "      <td>0</td>\n",
       "      <td>1</td>\n",
       "      <td>178</td>\n",
       "      <td>0</td>\n",
       "      <td>0.8</td>\n",
       "      <td>2</td>\n",
       "      <td>0</td>\n",
       "      <td>2</td>\n",
       "    </tr>\n",
       "    <tr>\n",
       "      <th>4</th>\n",
       "      <td>57</td>\n",
       "      <td>0</td>\n",
       "      <td>0</td>\n",
       "      <td>120</td>\n",
       "      <td>354</td>\n",
       "      <td>0</td>\n",
       "      <td>1</td>\n",
       "      <td>163</td>\n",
       "      <td>1</td>\n",
       "      <td>0.6</td>\n",
       "      <td>2</td>\n",
       "      <td>0</td>\n",
       "      <td>2</td>\n",
       "    </tr>\n",
       "  </tbody>\n",
       "</table>\n",
       "</div>"
      ],
      "text/plain": [
       "   age  gender  chest_pain  rest_bps  cholestrol  fasting_blood_sugar  \\\n",
       "0   63       1           3       145         233                    1   \n",
       "1   37       1           2       130         250                    0   \n",
       "2   41       0           1       130         204                    0   \n",
       "3   56       1           1       120         236                    0   \n",
       "4   57       0           0       120         354                    0   \n",
       "\n",
       "   rest_ecg  thalach  exer_angina  old_peak  slope  ca  thalassemia  \n",
       "0         0      150            0       2.3      0   0            1  \n",
       "1         1      187            0       3.5      0   0            2  \n",
       "2         0      172            0       1.4      2   0            2  \n",
       "3         1      178            0       0.8      2   0            2  \n",
       "4         1      163            1       0.6      2   0            2  "
      ]
     },
     "execution_count": 11,
     "metadata": {},
     "output_type": "execute_result"
    }
   ],
   "source": [
    "x.head()"
   ]
  },
  {
   "cell_type": "markdown",
   "id": "9c4a5cc7-f8bc-4223-a637-63a2c3f32c66",
   "metadata": {},
   "source": [
    "**Splitting the data into Training and Testing data**"
   ]
  },
  {
   "cell_type": "code",
   "execution_count": 12,
   "id": "d42eff01-6e3e-4b8f-b0f1-5d472fcc75a2",
   "metadata": {},
   "outputs": [],
   "source": [
    "from sklearn.model_selection import train_test_split\n",
    "x_train,x_test,y_train,y_test=train_test_split(x,y,test_size=0.3,random_state=1)"
   ]
  },
  {
   "cell_type": "markdown",
   "id": "f2b962e5-3151-415a-8ced-fdf6e50a0239",
   "metadata": {},
   "source": [
    "##0.3 means 30% of data is for testing and the remaining 60% of data is for training##"
   ]
  },
  {
   "cell_type": "code",
   "execution_count": 13,
   "id": "bd299ac0-e4ca-410f-9842-f2a1ff805889",
   "metadata": {},
   "outputs": [
    {
     "data": {
      "text/plain": [
       "((211, 13), (211,))"
      ]
     },
     "execution_count": 13,
     "metadata": {},
     "output_type": "execute_result"
    }
   ],
   "source": [
    "x_train.shape,y_train.shape"
   ]
  },
  {
   "cell_type": "markdown",
   "id": "3b9e704b-cf60-4d64-9184-1eeb4bd4b673",
   "metadata": {},
   "source": [
    "**Scaling the data**"
   ]
  },
  {
   "cell_type": "code",
   "execution_count": 14,
   "id": "77a42841-9c56-41fa-9885-7201485da68a",
   "metadata": {},
   "outputs": [],
   "source": [
    "#apply standard scaleing\n",
    "from sklearn.preprocessing import StandardScaler\n",
    "ss=StandardScaler()\n",
    "\n",
    "x_train=ss.fit_transform(x_train)\n",
    "x_test=ss.transform(x_test)"
   ]
  },
  {
   "cell_type": "code",
   "execution_count": 15,
   "id": "a3c6a26a-4193-4eaa-8d26-919d16ebd8b9",
   "metadata": {},
   "outputs": [
    {
     "data": {
      "text/plain": [
       "(211, 13)"
      ]
     },
     "execution_count": 15,
     "metadata": {},
     "output_type": "execute_result"
    }
   ],
   "source": [
    "x_train.shape"
   ]
  },
  {
   "cell_type": "code",
   "execution_count": 16,
   "id": "43d38f09-0e29-4114-81e8-d86c55074071",
   "metadata": {},
   "outputs": [
    {
     "data": {
      "text/plain": [
       "array([[-1.06167727, -1.55023411,  1.02938967, ..., -0.69616283,\n",
       "         0.27995117, -0.51005185],\n",
       "       [ 0.43317242,  0.64506386, -0.92737808, ...,  0.95429062,\n",
       "        -0.72123014,  1.12056846],\n",
       "       [ 0.43317242, -1.55023411, -0.92737808, ..., -0.69616283,\n",
       "         1.28113248, -2.14067216],\n",
       "       ...,\n",
       "       [-2.66330193,  0.64506386,  0.05100579, ...,  0.95429062,\n",
       "        -0.72123014, -0.51005185],\n",
       "       [ 0.43317242,  0.64506386, -0.92737808, ...,  0.95429062,\n",
       "         1.28113248,  1.12056846],\n",
       "       [ 0.00607251,  0.64506386,  1.02938967, ...,  0.95429062,\n",
       "        -0.72123014,  1.12056846]])"
      ]
     },
     "execution_count": 16,
     "metadata": {},
     "output_type": "execute_result"
    }
   ],
   "source": [
    "x_train"
   ]
  },
  {
   "cell_type": "markdown",
   "id": "b6e172ce-32f5-4e9a-80c6-d2d663f13230",
   "metadata": {},
   "source": [
    "**Model Training and Evaluation**"
   ]
  },
  {
   "cell_type": "markdown",
   "id": "7eb7ed01-eaf0-4cf5-9260-6cb962a7f981",
   "metadata": {},
   "source": [
    "**1.Logistic Regression**"
   ]
  },
  {
   "cell_type": "code",
   "execution_count": 17,
   "id": "63f525ec-86a6-4084-9427-fa2c0a0e19a4",
   "metadata": {},
   "outputs": [],
   "source": [
    "#create user defined function\n",
    "def create_model(model):\n",
    "    model.fit(x_train,y_train)  #train the model with 70% data\n",
    "    y_pred=model.predict(x_test) #test the model with 30% data\n",
    "    print(confusion_matrix(y_test,y_pred))\n",
    "    print(classification_report(y_test,y_pred))\n",
    "    return model"
   ]
  },
  {
   "cell_type": "code",
   "execution_count": 18,
   "id": "85cf3173-bf73-405b-81aa-782c60de6abc",
   "metadata": {},
   "outputs": [],
   "source": [
    "from sklearn.metrics import confusion_matrix\n",
    "from sklearn.metrics import classification_report"
   ]
  },
  {
   "cell_type": "code",
   "execution_count": 19,
   "id": "a3c0186d-411f-495e-8491-e0dc3210fb43",
   "metadata": {},
   "outputs": [],
   "source": [
    "#perform the model with the help of logistic regression(type of classification) algorithm\n",
    "#call class\n",
    "from sklearn.linear_model import LogisticRegression"
   ]
  },
  {
   "cell_type": "code",
   "execution_count": 20,
   "id": "b1caca31-60aa-4471-83ef-0209e9d77e2e",
   "metadata": {},
   "outputs": [],
   "source": [
    "#create the object\n",
    "lr=LogisticRegression()"
   ]
  },
  {
   "cell_type": "code",
   "execution_count": 21,
   "id": "9fa57f37-0024-4c63-8618-3a8eb5734e87",
   "metadata": {},
   "outputs": [
    {
     "name": "stdout",
     "output_type": "stream",
     "text": [
      "[[30  8]\n",
      " [ 9 44]]\n",
      "              precision    recall  f1-score   support\n",
      "\n",
      "           0       0.77      0.79      0.78        38\n",
      "           1       0.85      0.83      0.84        53\n",
      "\n",
      "    accuracy                           0.81        91\n",
      "   macro avg       0.81      0.81      0.81        91\n",
      "weighted avg       0.81      0.81      0.81        91\n",
      "\n"
     ]
    }
   ],
   "source": [
    "#create the function\n",
    "lr=create_model(lr)"
   ]
  },
  {
   "cell_type": "markdown",
   "id": "917c9eef-1d9f-471f-aa16-0cf0a5f53519",
   "metadata": {},
   "source": [
    "Accuracy score of Logistic Regression : 81% "
   ]
  },
  {
   "cell_type": "code",
   "execution_count": 22,
   "id": "469c4a06-3999-4cd4-8ef3-fe5f6bfbf384",
   "metadata": {},
   "outputs": [],
   "source": [
    "#use decision tree classifire\n",
    "#call class\n",
    "from sklearn.tree import DecisionTreeClassifier"
   ]
  },
  {
   "cell_type": "code",
   "execution_count": 23,
   "id": "a11d5529-b745-4234-aa3e-3a90eb74f3aa",
   "metadata": {},
   "outputs": [],
   "source": [
    "dtc=DecisionTreeClassifier(random_state=1)"
   ]
  },
  {
   "cell_type": "code",
   "execution_count": 24,
   "id": "94fc3824-a2f0-497a-ab3d-586347906fb8",
   "metadata": {},
   "outputs": [
    {
     "name": "stdout",
     "output_type": "stream",
     "text": [
      "[[30  8]\n",
      " [16 37]]\n",
      "              precision    recall  f1-score   support\n",
      "\n",
      "           0       0.65      0.79      0.71        38\n",
      "           1       0.82      0.70      0.76        53\n",
      "\n",
      "    accuracy                           0.74        91\n",
      "   macro avg       0.74      0.74      0.73        91\n",
      "weighted avg       0.75      0.74      0.74        91\n",
      "\n"
     ]
    }
   ],
   "source": [
    "#call user defined function\n",
    "dtc=create_model(dtc)"
   ]
  },
  {
   "cell_type": "markdown",
   "id": "11aadb04-0e57-44e5-98e6-d34e58d7ba5c",
   "metadata": {},
   "source": [
    "Accuracy score of Decision Tree Classifier: 74%"
   ]
  },
  {
   "cell_type": "code",
   "execution_count": 25,
   "id": "4068093d-b9b6-4a81-a1f5-571b89f40ca8",
   "metadata": {},
   "outputs": [
    {
     "data": {
      "text/html": [
       "<div>\n",
       "<style scoped>\n",
       "    .dataframe tbody tr th:only-of-type {\n",
       "        vertical-align: middle;\n",
       "    }\n",
       "\n",
       "    .dataframe tbody tr th {\n",
       "        vertical-align: top;\n",
       "    }\n",
       "\n",
       "    .dataframe thead th {\n",
       "        text-align: right;\n",
       "    }\n",
       "</style>\n",
       "<table border=\"1\" class=\"dataframe\">\n",
       "  <thead>\n",
       "    <tr style=\"text-align: right;\">\n",
       "      <th></th>\n",
       "      <th>input columns</th>\n",
       "      <th>IG</th>\n",
       "    </tr>\n",
       "  </thead>\n",
       "  <tbody>\n",
       "    <tr>\n",
       "      <th>0</th>\n",
       "      <td>chest_pain</td>\n",
       "      <td>0.317338</td>\n",
       "    </tr>\n",
       "    <tr>\n",
       "      <th>1</th>\n",
       "      <td>cholestrol</td>\n",
       "      <td>0.113529</td>\n",
       "    </tr>\n",
       "    <tr>\n",
       "      <th>2</th>\n",
       "      <td>ca</td>\n",
       "      <td>0.113295</td>\n",
       "    </tr>\n",
       "    <tr>\n",
       "      <th>3</th>\n",
       "      <td>thalassemia</td>\n",
       "      <td>0.088533</td>\n",
       "    </tr>\n",
       "    <tr>\n",
       "      <th>4</th>\n",
       "      <td>age</td>\n",
       "      <td>0.085167</td>\n",
       "    </tr>\n",
       "    <tr>\n",
       "      <th>5</th>\n",
       "      <td>exer_angina</td>\n",
       "      <td>0.081387</td>\n",
       "    </tr>\n",
       "    <tr>\n",
       "      <th>6</th>\n",
       "      <td>thalach</td>\n",
       "      <td>0.073287</td>\n",
       "    </tr>\n",
       "    <tr>\n",
       "      <th>7</th>\n",
       "      <td>old_peak</td>\n",
       "      <td>0.061444</td>\n",
       "    </tr>\n",
       "    <tr>\n",
       "      <th>8</th>\n",
       "      <td>rest_bps</td>\n",
       "      <td>0.045681</td>\n",
       "    </tr>\n",
       "    <tr>\n",
       "      <th>9</th>\n",
       "      <td>gender</td>\n",
       "      <td>0.020339</td>\n",
       "    </tr>\n",
       "    <tr>\n",
       "      <th>10</th>\n",
       "      <td>fasting_blood_sugar</td>\n",
       "      <td>0.000000</td>\n",
       "    </tr>\n",
       "    <tr>\n",
       "      <th>11</th>\n",
       "      <td>rest_ecg</td>\n",
       "      <td>0.000000</td>\n",
       "    </tr>\n",
       "    <tr>\n",
       "      <th>12</th>\n",
       "      <td>slope</td>\n",
       "      <td>0.000000</td>\n",
       "    </tr>\n",
       "  </tbody>\n",
       "</table>\n",
       "</div>"
      ],
      "text/plain": [
       "          input columns        IG\n",
       "0            chest_pain  0.317338\n",
       "1            cholestrol  0.113529\n",
       "2                    ca  0.113295\n",
       "3           thalassemia  0.088533\n",
       "4                   age  0.085167\n",
       "5           exer_angina  0.081387\n",
       "6               thalach  0.073287\n",
       "7              old_peak  0.061444\n",
       "8              rest_bps  0.045681\n",
       "9                gender  0.020339\n",
       "10  fasting_blood_sugar  0.000000\n",
       "11             rest_ecg  0.000000\n",
       "12                slope  0.000000"
      ]
     },
     "execution_count": 25,
     "metadata": {},
     "output_type": "execute_result"
    }
   ],
   "source": [
    "#create a df \n",
    "dict={'input columns':x.columns,'IG':dtc.feature_importances_}\n",
    "df1=pd.DataFrame(dict)\n",
    "df1.sort_values(by='IG',ascending=False,ignore_index=True)"
   ]
  },
  {
   "cell_type": "code",
   "execution_count": 26,
   "id": "367996fe-72b9-4672-9f27-dd1440d52205",
   "metadata": {},
   "outputs": [],
   "source": [
    "#in decisiontreeclassifier,we got less than score0.70 means 70% reason behind the less score,model is overfit\n",
    "#so we reduce overfiting the model, then use pruning technique of DecisionTreeClassifier class\n",
    "#how to reduce overfitting situation by using the pruning technique:\n",
    "#  1: max_dept: inbuilt parameter of DecisionTreeClassifier class\n",
    "#  2.min_samples_leaf: inbuilt parameter of DecisionTreeClassifier class"
   ]
  },
  {
   "cell_type": "code",
   "execution_count": 27,
   "id": "562209f2-4457-40d6-847a-a13ec4bac888",
   "metadata": {},
   "outputs": [
    {
     "name": "stdout",
     "output_type": "stream",
     "text": [
      "[[26 12]\n",
      " [12 41]]\n",
      "              precision    recall  f1-score   support\n",
      "\n",
      "           0       0.68      0.68      0.68        38\n",
      "           1       0.77      0.77      0.77        53\n",
      "\n",
      "    accuracy                           0.74        91\n",
      "   macro avg       0.73      0.73      0.73        91\n",
      "weighted avg       0.74      0.74      0.74        91\n",
      "\n"
     ]
    }
   ],
   "source": [
    "#max_dept: inbuilt parameter of DecisionTreeClassifier class\n",
    "#value of max_depth parameter for any dataset<=8\n",
    "'''for i in range (1,9): #start=1 stop=9-1=8 step=+1\n",
    "    #create object of DecisionTreeClassifier class and passing the parameter max_dept\n",
    "    dtc1=DecisionTreeClassifier(random_state=1,max_depth=i)\n",
    "    #i=1 then i=2 etc\n",
    "    #by default use method gini index\n",
    "    print(\"\\nMax dept: \",i)\n",
    "    #call user defined function\n",
    "    dtc1=create_model(dtc1)'''\n",
    "#max_dept: inbuilt parameter of DecisionTreeClassifier class\n",
    "#value of max_depth parameter for any dataset<=8\n",
    "dtc1=DecisionTreeClassifier(random_state=1,max_depth=3)\n",
    "#by default use method gini index\n",
    "#call user defined function\n",
    "dtc1=create_model(dtc1)"
   ]
  },
  {
   "cell_type": "code",
   "execution_count": 28,
   "id": "583e55a6-22e2-4f1d-9831-f1ea3519929f",
   "metadata": {},
   "outputs": [
    {
     "data": {
      "text/html": [
       "<div>\n",
       "<style scoped>\n",
       "    .dataframe tbody tr th:only-of-type {\n",
       "        vertical-align: middle;\n",
       "    }\n",
       "\n",
       "    .dataframe tbody tr th {\n",
       "        vertical-align: top;\n",
       "    }\n",
       "\n",
       "    .dataframe thead th {\n",
       "        text-align: right;\n",
       "    }\n",
       "</style>\n",
       "<table border=\"1\" class=\"dataframe\">\n",
       "  <thead>\n",
       "    <tr style=\"text-align: right;\">\n",
       "      <th></th>\n",
       "      <th>input columns</th>\n",
       "      <th>IG</th>\n",
       "    </tr>\n",
       "  </thead>\n",
       "  <tbody>\n",
       "    <tr>\n",
       "      <th>0</th>\n",
       "      <td>chest_pain</td>\n",
       "      <td>0.513685</td>\n",
       "    </tr>\n",
       "    <tr>\n",
       "      <th>1</th>\n",
       "      <td>ca</td>\n",
       "      <td>0.159350</td>\n",
       "    </tr>\n",
       "    <tr>\n",
       "      <th>2</th>\n",
       "      <td>exer_angina</td>\n",
       "      <td>0.131743</td>\n",
       "    </tr>\n",
       "    <tr>\n",
       "      <th>3</th>\n",
       "      <td>old_peak</td>\n",
       "      <td>0.084076</td>\n",
       "    </tr>\n",
       "    <tr>\n",
       "      <th>4</th>\n",
       "      <td>age</td>\n",
       "      <td>0.047148</td>\n",
       "    </tr>\n",
       "    <tr>\n",
       "      <th>5</th>\n",
       "      <td>cholestrol</td>\n",
       "      <td>0.041540</td>\n",
       "    </tr>\n",
       "    <tr>\n",
       "      <th>6</th>\n",
       "      <td>rest_bps</td>\n",
       "      <td>0.022457</td>\n",
       "    </tr>\n",
       "    <tr>\n",
       "      <th>7</th>\n",
       "      <td>gender</td>\n",
       "      <td>0.000000</td>\n",
       "    </tr>\n",
       "    <tr>\n",
       "      <th>8</th>\n",
       "      <td>fasting_blood_sugar</td>\n",
       "      <td>0.000000</td>\n",
       "    </tr>\n",
       "    <tr>\n",
       "      <th>9</th>\n",
       "      <td>rest_ecg</td>\n",
       "      <td>0.000000</td>\n",
       "    </tr>\n",
       "    <tr>\n",
       "      <th>10</th>\n",
       "      <td>thalach</td>\n",
       "      <td>0.000000</td>\n",
       "    </tr>\n",
       "    <tr>\n",
       "      <th>11</th>\n",
       "      <td>slope</td>\n",
       "      <td>0.000000</td>\n",
       "    </tr>\n",
       "    <tr>\n",
       "      <th>12</th>\n",
       "      <td>thalassemia</td>\n",
       "      <td>0.000000</td>\n",
       "    </tr>\n",
       "  </tbody>\n",
       "</table>\n",
       "</div>"
      ],
      "text/plain": [
       "          input columns        IG\n",
       "0            chest_pain  0.513685\n",
       "1                    ca  0.159350\n",
       "2           exer_angina  0.131743\n",
       "3              old_peak  0.084076\n",
       "4                   age  0.047148\n",
       "5            cholestrol  0.041540\n",
       "6              rest_bps  0.022457\n",
       "7                gender  0.000000\n",
       "8   fasting_blood_sugar  0.000000\n",
       "9              rest_ecg  0.000000\n",
       "10              thalach  0.000000\n",
       "11                slope  0.000000\n",
       "12          thalassemia  0.000000"
      ]
     },
     "execution_count": 28,
     "metadata": {},
     "output_type": "execute_result"
    }
   ],
   "source": [
    "#create a df \n",
    "dict={'input columns':x.columns,'IG':dtc1.feature_importances_}\n",
    "df1=pd.DataFrame(dict)\n",
    "df1.sort_values(by='IG',ascending=False,ignore_index=True)"
   ]
  },
  {
   "cell_type": "code",
   "execution_count": 29,
   "id": "efbe48ea-f04e-4a4b-aaf1-e71cf58b4596",
   "metadata": {},
   "outputs": [],
   "source": [
    "#by using DecisionTreeClassifier \n",
    "#In the above report, Recall score=o.77 means 70% and \n",
    "#Accuracy=0.74\n",
    "#By using DecisionTreeClassifier using gini_index(max_depth)"
   ]
  },
  {
   "cell_type": "code",
   "execution_count": 30,
   "id": "4faf8b47-b549-40fe-94c5-abaf116ce4f9",
   "metadata": {},
   "outputs": [
    {
     "name": "stdout",
     "output_type": "stream",
     "text": [
      "[[28 10]\n",
      " [13 40]]\n",
      "              precision    recall  f1-score   support\n",
      "\n",
      "           0       0.68      0.74      0.71        38\n",
      "           1       0.80      0.75      0.78        53\n",
      "\n",
      "    accuracy                           0.75        91\n",
      "   macro avg       0.74      0.75      0.74        91\n",
      "weighted avg       0.75      0.75      0.75        91\n",
      "\n"
     ]
    }
   ],
   "source": [
    "#max_dept: inbuilt parameter of DecisionTreeClassifier class\n",
    "#value of max_depth parameter for any dataset<=8\n",
    "'''for i in range (1,9): #start=1 stop=9-1=8 step=+1\n",
    "    #create object of DecisionTreeClassifier class and passing the parameter max_dept\n",
    "    dtc1=DecisionTreeClassifier(random_state=1,criterion='entropy',max_depth=i)\n",
    "    #i=1 then i=2 etc\n",
    "    #by default use method gini index\n",
    "    print(\"\\nMax dept: \",i)\n",
    "    #call user defined function\n",
    "    dtc1=create_model(dtc1)'''\n",
    "#max_dept: inbuilt parameter of DecisionTreeClassifier class\n",
    "#value of max_depth parameter for any dataset<=8\n",
    "dtc1=DecisionTreeClassifier(random_state=1,criterion='entropy',max_depth=6)\n",
    "#by default use method gini index\n",
    "#call user defined function\n",
    "dtc1=create_model(dtc1)"
   ]
  },
  {
   "cell_type": "code",
   "execution_count": 31,
   "id": "4448308e-440b-4ade-8218-77128bf308c7",
   "metadata": {},
   "outputs": [
    {
     "data": {
      "text/html": [
       "<div>\n",
       "<style scoped>\n",
       "    .dataframe tbody tr th:only-of-type {\n",
       "        vertical-align: middle;\n",
       "    }\n",
       "\n",
       "    .dataframe tbody tr th {\n",
       "        vertical-align: top;\n",
       "    }\n",
       "\n",
       "    .dataframe thead th {\n",
       "        text-align: right;\n",
       "    }\n",
       "</style>\n",
       "<table border=\"1\" class=\"dataframe\">\n",
       "  <thead>\n",
       "    <tr style=\"text-align: right;\">\n",
       "      <th></th>\n",
       "      <th>input columns</th>\n",
       "      <th>IG</th>\n",
       "    </tr>\n",
       "  </thead>\n",
       "  <tbody>\n",
       "    <tr>\n",
       "      <th>0</th>\n",
       "      <td>chest_pain</td>\n",
       "      <td>0.261707</td>\n",
       "    </tr>\n",
       "    <tr>\n",
       "      <th>1</th>\n",
       "      <td>ca</td>\n",
       "      <td>0.139269</td>\n",
       "    </tr>\n",
       "    <tr>\n",
       "      <th>2</th>\n",
       "      <td>age</td>\n",
       "      <td>0.112116</td>\n",
       "    </tr>\n",
       "    <tr>\n",
       "      <th>3</th>\n",
       "      <td>rest_bps</td>\n",
       "      <td>0.101919</td>\n",
       "    </tr>\n",
       "    <tr>\n",
       "      <th>4</th>\n",
       "      <td>thalach</td>\n",
       "      <td>0.096232</td>\n",
       "    </tr>\n",
       "    <tr>\n",
       "      <th>5</th>\n",
       "      <td>thalassemia</td>\n",
       "      <td>0.084927</td>\n",
       "    </tr>\n",
       "    <tr>\n",
       "      <th>6</th>\n",
       "      <td>exer_angina</td>\n",
       "      <td>0.069672</td>\n",
       "    </tr>\n",
       "    <tr>\n",
       "      <th>7</th>\n",
       "      <td>cholestrol</td>\n",
       "      <td>0.065036</td>\n",
       "    </tr>\n",
       "    <tr>\n",
       "      <th>8</th>\n",
       "      <td>old_peak</td>\n",
       "      <td>0.038586</td>\n",
       "    </tr>\n",
       "    <tr>\n",
       "      <th>9</th>\n",
       "      <td>gender</td>\n",
       "      <td>0.030536</td>\n",
       "    </tr>\n",
       "    <tr>\n",
       "      <th>10</th>\n",
       "      <td>fasting_blood_sugar</td>\n",
       "      <td>0.000000</td>\n",
       "    </tr>\n",
       "    <tr>\n",
       "      <th>11</th>\n",
       "      <td>rest_ecg</td>\n",
       "      <td>0.000000</td>\n",
       "    </tr>\n",
       "    <tr>\n",
       "      <th>12</th>\n",
       "      <td>slope</td>\n",
       "      <td>0.000000</td>\n",
       "    </tr>\n",
       "  </tbody>\n",
       "</table>\n",
       "</div>"
      ],
      "text/plain": [
       "          input columns        IG\n",
       "0            chest_pain  0.261707\n",
       "1                    ca  0.139269\n",
       "2                   age  0.112116\n",
       "3              rest_bps  0.101919\n",
       "4               thalach  0.096232\n",
       "5           thalassemia  0.084927\n",
       "6           exer_angina  0.069672\n",
       "7            cholestrol  0.065036\n",
       "8              old_peak  0.038586\n",
       "9                gender  0.030536\n",
       "10  fasting_blood_sugar  0.000000\n",
       "11             rest_ecg  0.000000\n",
       "12                slope  0.000000"
      ]
     },
     "execution_count": 31,
     "metadata": {},
     "output_type": "execute_result"
    }
   ],
   "source": [
    "dict={'input columns':x.columns,'IG':dtc1.feature_importances_}\n",
    "df1=pd.DataFrame(dict)\n",
    "df1.sort_values(by='IG',ascending=False,ignore_index=True)"
   ]
  },
  {
   "cell_type": "code",
   "execution_count": 32,
   "id": "475927d2-081f-462b-a6dc-08ee63ddf1ec",
   "metadata": {},
   "outputs": [],
   "source": [
    "#by using DecisionTreeClassifier \n",
    "#In the above report, Recall score=o.75 means 75% and \n",
    "#Accuracy=0.75\n",
    "#By using DecisionTreeClassifier using Entropy(max_depth)"
   ]
  },
  {
   "cell_type": "code",
   "execution_count": 33,
   "id": "4a2f3382-c374-4785-8c40-e22de84a3b40",
   "metadata": {},
   "outputs": [
    {
     "name": "stdout",
     "output_type": "stream",
     "text": [
      "[[26 12]\n",
      " [15 38]]\n",
      "              precision    recall  f1-score   support\n",
      "\n",
      "           0       0.63      0.68      0.66        38\n",
      "           1       0.76      0.72      0.74        53\n",
      "\n",
      "    accuracy                           0.70        91\n",
      "   macro avg       0.70      0.70      0.70        91\n",
      "weighted avg       0.71      0.70      0.70        91\n",
      "\n"
     ]
    }
   ],
   "source": [
    "#min_samples_leaf: inbuilt parameter of DecisionTreeClassifier class\n",
    "#it is second pruning technique,leaf means no child\n",
    "#value of min_samples_leaf parameter for any dataset >=45 and <=100\n",
    "'''for i in range (45,101): #start=45 stop=101-1=100 step=+1\n",
    "    #create object of DecisionTreeClassifier class and passing the parametr\\er min_samples_leaf\n",
    "    dtc2=DecisionTreeClassifier(random_state=1,min_samples_leaf=1)\n",
    "    #i=1 then i=2 etc\n",
    "    #by default use method gini index\n",
    "    print(\"\\nMin_samples_leaf: \",i)\n",
    "    #call user defined function\n",
    "    dtc2=create_model(dtc2)'''\n",
    "#min_samples_leaf: inbuilt parameter of DecisionTreeClassifier class\n",
    "#value of min_samples_leaf parameter for any dataset >=45 and <=100\n",
    "dtc2=DecisionTreeClassifier(random_state=1,min_samples_leaf=45)\n",
    "#by default use method gini index\n",
    "#call user defined function\n",
    "dtc2=create_model(dtc2)"
   ]
  },
  {
   "cell_type": "code",
   "execution_count": 34,
   "id": "febdb8ee-9e3c-4eea-98d6-13ac5978bb54",
   "metadata": {},
   "outputs": [
    {
     "data": {
      "text/html": [
       "<div>\n",
       "<style scoped>\n",
       "    .dataframe tbody tr th:only-of-type {\n",
       "        vertical-align: middle;\n",
       "    }\n",
       "\n",
       "    .dataframe tbody tr th {\n",
       "        vertical-align: top;\n",
       "    }\n",
       "\n",
       "    .dataframe thead th {\n",
       "        text-align: right;\n",
       "    }\n",
       "</style>\n",
       "<table border=\"1\" class=\"dataframe\">\n",
       "  <thead>\n",
       "    <tr style=\"text-align: right;\">\n",
       "      <th></th>\n",
       "      <th>input columns</th>\n",
       "      <th>IG</th>\n",
       "    </tr>\n",
       "  </thead>\n",
       "  <tbody>\n",
       "    <tr>\n",
       "      <th>0</th>\n",
       "      <td>chest_pain</td>\n",
       "      <td>0.704874</td>\n",
       "    </tr>\n",
       "    <tr>\n",
       "      <th>1</th>\n",
       "      <td>ca</td>\n",
       "      <td>0.218659</td>\n",
       "    </tr>\n",
       "    <tr>\n",
       "      <th>2</th>\n",
       "      <td>age</td>\n",
       "      <td>0.076467</td>\n",
       "    </tr>\n",
       "    <tr>\n",
       "      <th>3</th>\n",
       "      <td>gender</td>\n",
       "      <td>0.000000</td>\n",
       "    </tr>\n",
       "    <tr>\n",
       "      <th>4</th>\n",
       "      <td>rest_bps</td>\n",
       "      <td>0.000000</td>\n",
       "    </tr>\n",
       "    <tr>\n",
       "      <th>5</th>\n",
       "      <td>cholestrol</td>\n",
       "      <td>0.000000</td>\n",
       "    </tr>\n",
       "    <tr>\n",
       "      <th>6</th>\n",
       "      <td>fasting_blood_sugar</td>\n",
       "      <td>0.000000</td>\n",
       "    </tr>\n",
       "    <tr>\n",
       "      <th>7</th>\n",
       "      <td>rest_ecg</td>\n",
       "      <td>0.000000</td>\n",
       "    </tr>\n",
       "    <tr>\n",
       "      <th>8</th>\n",
       "      <td>thalach</td>\n",
       "      <td>0.000000</td>\n",
       "    </tr>\n",
       "    <tr>\n",
       "      <th>9</th>\n",
       "      <td>exer_angina</td>\n",
       "      <td>0.000000</td>\n",
       "    </tr>\n",
       "    <tr>\n",
       "      <th>10</th>\n",
       "      <td>old_peak</td>\n",
       "      <td>0.000000</td>\n",
       "    </tr>\n",
       "    <tr>\n",
       "      <th>11</th>\n",
       "      <td>slope</td>\n",
       "      <td>0.000000</td>\n",
       "    </tr>\n",
       "    <tr>\n",
       "      <th>12</th>\n",
       "      <td>thalassemia</td>\n",
       "      <td>0.000000</td>\n",
       "    </tr>\n",
       "  </tbody>\n",
       "</table>\n",
       "</div>"
      ],
      "text/plain": [
       "          input columns        IG\n",
       "0            chest_pain  0.704874\n",
       "1                    ca  0.218659\n",
       "2                   age  0.076467\n",
       "3                gender  0.000000\n",
       "4              rest_bps  0.000000\n",
       "5            cholestrol  0.000000\n",
       "6   fasting_blood_sugar  0.000000\n",
       "7              rest_ecg  0.000000\n",
       "8               thalach  0.000000\n",
       "9           exer_angina  0.000000\n",
       "10             old_peak  0.000000\n",
       "11                slope  0.000000\n",
       "12          thalassemia  0.000000"
      ]
     },
     "execution_count": 34,
     "metadata": {},
     "output_type": "execute_result"
    }
   ],
   "source": [
    "dict={'input columns':x.columns,'IG':dtc2.feature_importances_}\n",
    "df1=pd.DataFrame(dict)\n",
    "df1.sort_values(by='IG',ascending=False,ignore_index=True)"
   ]
  },
  {
   "cell_type": "code",
   "execution_count": 35,
   "id": "94c1c10e-6867-4f69-91bb-3476ebe108af",
   "metadata": {},
   "outputs": [],
   "source": [
    "#by using DecisionTreeClassifier \n",
    "#In the above report, Recall score=o.72 means 72% and \n",
    "#Accuracy=0.70\n",
    "#By using DecisionTreeClassifier using gini_index(min_samples_leaf)"
   ]
  },
  {
   "cell_type": "code",
   "execution_count": 36,
   "id": "42842c08-470c-49a2-8eef-7164e5919b6a",
   "metadata": {},
   "outputs": [
    {
     "name": "stdout",
     "output_type": "stream",
     "text": [
      "[[26 12]\n",
      " [15 38]]\n",
      "              precision    recall  f1-score   support\n",
      "\n",
      "           0       0.63      0.68      0.66        38\n",
      "           1       0.76      0.72      0.74        53\n",
      "\n",
      "    accuracy                           0.70        91\n",
      "   macro avg       0.70      0.70      0.70        91\n",
      "weighted avg       0.71      0.70      0.70        91\n",
      "\n"
     ]
    }
   ],
   "source": [
    "#min_samples_leaf: inbuilt parameter of DecisionTreeClassifier class\n",
    "#it is second pruning technique,leaf means no child\n",
    "#value of min_samples_leaf parameter for any dataset >=45 and <=100\n",
    "'''for i in range (45,101): #start=45 stop=101-1=100 step=+1\n",
    "    #create object of DecisionTreeClassifier class and passing the parametr\\er min_samples_leaf\n",
    "    dtc2=DecisionTreeClassifier(random_state=1,criterion='entropy',min_samples_leaf=1)\n",
    "    #i=1 then i=2 etc\n",
    "    #by default use method gini index\n",
    "    print(\"\\nMin_samples_leaf: \",i)\n",
    "    #call user defined function\n",
    "    dtc2=create_model(dtc2)'''\n",
    "#min_samples_leaf: inbuilt parameter of DecisionTreeClassifier class\n",
    "#value of min_samples_leaf parameter for any dataset >=45 and <=100\n",
    "dtc2=DecisionTreeClassifier(random_state=1,criterion='entropy',min_samples_leaf=45)\n",
    "#by default use method gini index\n",
    "#call user defined function\n",
    "dtc2=create_model(dtc2)"
   ]
  },
  {
   "cell_type": "code",
   "execution_count": 37,
   "id": "c41e0dd9-67ab-4731-9cb6-87d928cad35f",
   "metadata": {},
   "outputs": [
    {
     "data": {
      "text/html": [
       "<div>\n",
       "<style scoped>\n",
       "    .dataframe tbody tr th:only-of-type {\n",
       "        vertical-align: middle;\n",
       "    }\n",
       "\n",
       "    .dataframe tbody tr th {\n",
       "        vertical-align: top;\n",
       "    }\n",
       "\n",
       "    .dataframe thead th {\n",
       "        text-align: right;\n",
       "    }\n",
       "</style>\n",
       "<table border=\"1\" class=\"dataframe\">\n",
       "  <thead>\n",
       "    <tr style=\"text-align: right;\">\n",
       "      <th></th>\n",
       "      <th>input columns</th>\n",
       "      <th>IG</th>\n",
       "    </tr>\n",
       "  </thead>\n",
       "  <tbody>\n",
       "    <tr>\n",
       "      <th>0</th>\n",
       "      <td>chest_pain</td>\n",
       "      <td>0.623586</td>\n",
       "    </tr>\n",
       "    <tr>\n",
       "      <th>1</th>\n",
       "      <td>ca</td>\n",
       "      <td>0.277669</td>\n",
       "    </tr>\n",
       "    <tr>\n",
       "      <th>2</th>\n",
       "      <td>age</td>\n",
       "      <td>0.098745</td>\n",
       "    </tr>\n",
       "    <tr>\n",
       "      <th>3</th>\n",
       "      <td>gender</td>\n",
       "      <td>0.000000</td>\n",
       "    </tr>\n",
       "    <tr>\n",
       "      <th>4</th>\n",
       "      <td>rest_bps</td>\n",
       "      <td>0.000000</td>\n",
       "    </tr>\n",
       "    <tr>\n",
       "      <th>5</th>\n",
       "      <td>cholestrol</td>\n",
       "      <td>0.000000</td>\n",
       "    </tr>\n",
       "    <tr>\n",
       "      <th>6</th>\n",
       "      <td>fasting_blood_sugar</td>\n",
       "      <td>0.000000</td>\n",
       "    </tr>\n",
       "    <tr>\n",
       "      <th>7</th>\n",
       "      <td>rest_ecg</td>\n",
       "      <td>0.000000</td>\n",
       "    </tr>\n",
       "    <tr>\n",
       "      <th>8</th>\n",
       "      <td>thalach</td>\n",
       "      <td>0.000000</td>\n",
       "    </tr>\n",
       "    <tr>\n",
       "      <th>9</th>\n",
       "      <td>exer_angina</td>\n",
       "      <td>0.000000</td>\n",
       "    </tr>\n",
       "    <tr>\n",
       "      <th>10</th>\n",
       "      <td>old_peak</td>\n",
       "      <td>0.000000</td>\n",
       "    </tr>\n",
       "    <tr>\n",
       "      <th>11</th>\n",
       "      <td>slope</td>\n",
       "      <td>0.000000</td>\n",
       "    </tr>\n",
       "    <tr>\n",
       "      <th>12</th>\n",
       "      <td>thalassemia</td>\n",
       "      <td>0.000000</td>\n",
       "    </tr>\n",
       "  </tbody>\n",
       "</table>\n",
       "</div>"
      ],
      "text/plain": [
       "          input columns        IG\n",
       "0            chest_pain  0.623586\n",
       "1                    ca  0.277669\n",
       "2                   age  0.098745\n",
       "3                gender  0.000000\n",
       "4              rest_bps  0.000000\n",
       "5            cholestrol  0.000000\n",
       "6   fasting_blood_sugar  0.000000\n",
       "7              rest_ecg  0.000000\n",
       "8               thalach  0.000000\n",
       "9           exer_angina  0.000000\n",
       "10             old_peak  0.000000\n",
       "11                slope  0.000000\n",
       "12          thalassemia  0.000000"
      ]
     },
     "execution_count": 37,
     "metadata": {},
     "output_type": "execute_result"
    }
   ],
   "source": [
    "dict={'input columns':x.columns,'IG':dtc2.feature_importances_}\n",
    "df1=pd.DataFrame(dict)\n",
    "df1.sort_values(by='IG',ascending=False,ignore_index=True)"
   ]
  },
  {
   "cell_type": "code",
   "execution_count": 38,
   "id": "8137d626-9fda-4d4f-bfb3-c6cbad454f98",
   "metadata": {},
   "outputs": [],
   "source": [
    "#by using DecisionTreeClassifier \n",
    "#In the above report, Recall score=o.72 means 72% and \n",
    "#Accuracy=0.70\n",
    "#By using DecisionTreeClassifier using Entropy(min_samples_leaf)"
   ]
  },
  {
   "cell_type": "code",
   "execution_count": 39,
   "id": "6fe5df53-423b-4cf1-9d10-4c86ce98cdc2",
   "metadata": {},
   "outputs": [],
   "source": [
    "#apply Ensembling Technique\n",
    "#1.BootStraping method:\n",
    "#RANDOMfORESTTREE(USE BAGGINBG):\n",
    "from sklearn.ensemble import RandomForestClassifier"
   ]
  },
  {
   "cell_type": "code",
   "execution_count": 40,
   "id": "1ae30761-5468-4628-8c8b-f9f718805728",
   "metadata": {},
   "outputs": [
    {
     "name": "stdout",
     "output_type": "stream",
     "text": [
      "[[29  9]\n",
      " [12 41]]\n",
      "              precision    recall  f1-score   support\n",
      "\n",
      "           0       0.71      0.76      0.73        38\n",
      "           1       0.82      0.77      0.80        53\n",
      "\n",
      "    accuracy                           0.77        91\n",
      "   macro avg       0.76      0.77      0.77        91\n",
      "weighted avg       0.77      0.77      0.77        91\n",
      "\n"
     ]
    }
   ],
   "source": [
    "#Randamforest classifier  inbuil inner class\n",
    "'''for i in range(10,101):\n",
    "    rfc=RandomForestClassifier(n_estimators=i,random_state=1)\n",
    "    print('No. of estimators means no. of Decision tree :',i)\n",
    "    rfc=create_model(rfc)'''\n",
    "rfc=RandomForestClassifier(n_estimators=81,random_state=1)\n",
    "#call function\n",
    "rfc=create_model(rfc)"
   ]
  },
  {
   "cell_type": "code",
   "execution_count": 41,
   "id": "fc4711a0-e896-4182-b2bb-e35579b08f51",
   "metadata": {},
   "outputs": [
    {
     "data": {
      "text/html": [
       "<div>\n",
       "<style scoped>\n",
       "    .dataframe tbody tr th:only-of-type {\n",
       "        vertical-align: middle;\n",
       "    }\n",
       "\n",
       "    .dataframe tbody tr th {\n",
       "        vertical-align: top;\n",
       "    }\n",
       "\n",
       "    .dataframe thead th {\n",
       "        text-align: right;\n",
       "    }\n",
       "</style>\n",
       "<table border=\"1\" class=\"dataframe\">\n",
       "  <thead>\n",
       "    <tr style=\"text-align: right;\">\n",
       "      <th></th>\n",
       "      <th>input columns</th>\n",
       "      <th>IG</th>\n",
       "    </tr>\n",
       "  </thead>\n",
       "  <tbody>\n",
       "    <tr>\n",
       "      <th>0</th>\n",
       "      <td>chest_pain</td>\n",
       "      <td>0.176114</td>\n",
       "    </tr>\n",
       "    <tr>\n",
       "      <th>1</th>\n",
       "      <td>thalach</td>\n",
       "      <td>0.124594</td>\n",
       "    </tr>\n",
       "    <tr>\n",
       "      <th>2</th>\n",
       "      <td>ca</td>\n",
       "      <td>0.098859</td>\n",
       "    </tr>\n",
       "    <tr>\n",
       "      <th>3</th>\n",
       "      <td>thalassemia</td>\n",
       "      <td>0.098613</td>\n",
       "    </tr>\n",
       "    <tr>\n",
       "      <th>4</th>\n",
       "      <td>old_peak</td>\n",
       "      <td>0.094800</td>\n",
       "    </tr>\n",
       "    <tr>\n",
       "      <th>5</th>\n",
       "      <td>rest_bps</td>\n",
       "      <td>0.082581</td>\n",
       "    </tr>\n",
       "    <tr>\n",
       "      <th>6</th>\n",
       "      <td>cholestrol</td>\n",
       "      <td>0.067916</td>\n",
       "    </tr>\n",
       "    <tr>\n",
       "      <th>7</th>\n",
       "      <td>age</td>\n",
       "      <td>0.067744</td>\n",
       "    </tr>\n",
       "    <tr>\n",
       "      <th>8</th>\n",
       "      <td>exer_angina</td>\n",
       "      <td>0.066672</td>\n",
       "    </tr>\n",
       "    <tr>\n",
       "      <th>9</th>\n",
       "      <td>slope</td>\n",
       "      <td>0.057962</td>\n",
       "    </tr>\n",
       "    <tr>\n",
       "      <th>10</th>\n",
       "      <td>gender</td>\n",
       "      <td>0.035431</td>\n",
       "    </tr>\n",
       "    <tr>\n",
       "      <th>11</th>\n",
       "      <td>rest_ecg</td>\n",
       "      <td>0.018183</td>\n",
       "    </tr>\n",
       "    <tr>\n",
       "      <th>12</th>\n",
       "      <td>fasting_blood_sugar</td>\n",
       "      <td>0.010531</td>\n",
       "    </tr>\n",
       "  </tbody>\n",
       "</table>\n",
       "</div>"
      ],
      "text/plain": [
       "          input columns        IG\n",
       "0            chest_pain  0.176114\n",
       "1               thalach  0.124594\n",
       "2                    ca  0.098859\n",
       "3           thalassemia  0.098613\n",
       "4              old_peak  0.094800\n",
       "5              rest_bps  0.082581\n",
       "6            cholestrol  0.067916\n",
       "7                   age  0.067744\n",
       "8           exer_angina  0.066672\n",
       "9                 slope  0.057962\n",
       "10               gender  0.035431\n",
       "11             rest_ecg  0.018183\n",
       "12  fasting_blood_sugar  0.010531"
      ]
     },
     "execution_count": 41,
     "metadata": {},
     "output_type": "execute_result"
    }
   ],
   "source": [
    "#create a dict\n",
    "dict={'input columns':x.columns,'IG':rfc.feature_importances_}\n",
    "df1=pd.DataFrame(dict)\n",
    "df1.sort_values(by='IG',ascending=False,ignore_index=True)"
   ]
  },
  {
   "cell_type": "code",
   "execution_count": 42,
   "id": "f8b4fa6d-7f10-433d-be9d-52bbe8bb474c",
   "metadata": {},
   "outputs": [],
   "source": [
    "#in the above report recall score=0.77 means 77%\n",
    "#using the RandomForestCalssifier"
   ]
  },
  {
   "cell_type": "markdown",
   "id": "c34f073a-d6e8-45e4-8b0b-6fadcce07caa",
   "metadata": {},
   "source": [
    "# save model"
   ]
  },
  {
   "cell_type": "code",
   "execution_count": 43,
   "id": "b2bd2932-0280-44a7-9f16-7d88346c7e9e",
   "metadata": {},
   "outputs": [],
   "source": [
    "#use file handling of python : use pickle (inbuild library)\n",
    "import pickle"
   ]
  },
  {
   "cell_type": "code",
   "execution_count": 44,
   "id": "3cc91923-83dc-4f16-80d7-bb82a07316c6",
   "metadata": {},
   "outputs": [
    {
     "data": {
      "text/plain": [
       "'C:\\\\Users\\\\Anisha Kadam\\\\Downloads'"
      ]
     },
     "execution_count": 44,
     "metadata": {},
     "output_type": "execute_result"
    }
   ],
   "source": [
    "#save object of algorithm (got best score)\n",
    "#to open file in write binary\n",
    "#tempfile+open('permanent file','modes of files')\n",
    "#write/save in binary mode :  wb\n",
    "#read in binary mode : rb\n",
    "import os\n",
    "os.getcwd()"
   ]
  },
  {
   "cell_type": "code",
   "execution_count": 45,
   "id": "fdaecb4e-1e56-4578-afa3-3c7cc7908817",
   "metadata": {},
   "outputs": [],
   "source": [
    "# to open file in write binary for model create\n",
    "file1=open(\"model.pkl\",\"wb\")  #model.pkl: new file which store object of algorithm which got best score\n",
    "\n",
    "# to open file in write binary for scaling\n",
    "file2=open(\"scale.pkl\",\"wb\")  #scale.pkl: new file which store object of Standardscaler class\n",
    "#fil1 and file2 both are temporary file\n",
    "\n",
    "#file3=open(\"label.pkl\",\"wb\") for label encoder if it is there"
   ]
  },
  {
   "cell_type": "code",
   "execution_count": 46,
   "id": "158f4578-8ffa-41ca-bf57-62da5382bc0f",
   "metadata": {},
   "outputs": [],
   "source": [
    "# save  object of algorithm  (decisiontreeclassifire) class in temp file file1\n",
    "#use inbuild method dump() which method define in pickle class\n",
    "pickle.dump(lr,file1) #syntax: pickle.dump(object of algorithm, temp file)\n",
    "# to close temp file file1\n",
    "file1.close()"
   ]
  },
  {
   "cell_type": "code",
   "execution_count": 47,
   "id": "8d6b5d3e-bfb6-4725-8c7f-6b3be2d8f961",
   "metadata": {},
   "outputs": [],
   "source": [
    "#save object of standardscalet class\n",
    "pickle.dump(ss,file2)\n",
    "#to close temp file2\n",
    "file2.close()"
   ]
  },
  {
   "cell_type": "code",
   "execution_count": null,
   "id": "829f0873-3780-431a-94f3-b13ac6cc8578",
   "metadata": {},
   "outputs": [],
   "source": []
  }
 ],
 "metadata": {
  "kernelspec": {
   "display_name": "Python 3 (ipykernel)",
   "language": "python",
   "name": "python3"
  },
  "language_info": {
   "codemirror_mode": {
    "name": "ipython",
    "version": 3
   },
   "file_extension": ".py",
   "mimetype": "text/x-python",
   "name": "python",
   "nbconvert_exporter": "python",
   "pygments_lexer": "ipython3",
   "version": "3.11.7"
  }
 },
 "nbformat": 4,
 "nbformat_minor": 5
}
